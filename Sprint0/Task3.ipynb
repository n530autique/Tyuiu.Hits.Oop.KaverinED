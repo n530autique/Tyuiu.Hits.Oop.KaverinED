{
 "cells": [
  {
   "cell_type": "markdown",
   "metadata": {},
   "source": [
    "<h1 style=\"color:DodgerBlue\">Индивидальный проект</h1>"
   ]
  },
  {
   "cell_type": "markdown",
   "metadata": {},
   "source": [
    "<h2 style=\"color:DodgerBlue\">Название проекта:</h2>\n",
    "\n",
    "----\n",
    "\n",
    "### Вариант задания 8\n",
    "\n"
   ]
  },
  {
   "cell_type": "markdown",
   "metadata": {},
   "source": [
    "<h2 style=\"color:DodgerBlue\">Описание проекта:</h2>\n",
    "\n",
    "----\n",
    "\n",
    "[Описание задачи:\n",
    "Создать базовый класс CreditCard в C#, который будет представлять информацию\n",
    "о кредитных картах. На основе этого класса разработать 2-3 производных класса,\n",
    "демонстрирующих принципы наследования и полиморфизма. В каждом из классов\n",
    "должны быть реализованы новые атрибуты и методы, а также переопределены\n",
    "некоторые методы базового класса для демонстрации полиморфизма.\n",
    "Требования к базовому классу CreditCard:\n",
    "• Атрибуты: Номер карты (CardNumber), Холдера (HolderName), Срок\n",
    "действия (ExpiryDate).\n",
    "• Методы:\n",
    "o GetInfo(): метод для получения информации о кредитной карте в виде\n",
    "строки.\n",
    "o Pay(): метод для оплаты покупки с использованием карты.\n",
    "o CheckBalance(): метод для проверки баланса на карте.\n",
    "Требования к производным классам:\n",
    "1. GoldCard (GoldCreditCard): Должен содержать дополнительные атрибуты,\n",
    "такие как Бесплатные бонусные мили (BonusMiles). Метод Pay() должен быть\n",
    "переопределен для добавления информации о получении бонусных миль\n",
    "при оплате покупки.\n",
    "2. PremiumCard (PremiumCreditCard): Должен содержать дополнительные\n",
    "атрибуты, такие как Ассистент поддержки (SupportAssistant).\n",
    "Метод CheckBalance() должен быть переопределен для предоставления\n",
    "возможности обратиться за помощью к ассистенту поддержки в случае\n",
    "проблем с балансом.\n",
    "3. CorporateCard (CorporateCreditCard) (если требуется третий класс): Должен\n",
    "содержать дополнительные атрибуты, такие как Компания (Company).\n",
    "Метод GetInfo() должен быть переопределен для включения информации о\n",
    "компании в описании карты.\n",
    "]\n"
   ]
  },
  {
   "cell_type": "markdown",
   "metadata": {},
   "source": [
    "<h2 style=\"color:DodgerBlue\">Реализация:</h2>\n",
    "\n",
    "----"
   ]
  },
  {
   "cell_type": "code",
   "execution_count": 2,
   "metadata": {
    "dotnet_interactive": {
     "language": "csharp"
    },
    "polyglot_notebook": {
     "kernelName": "csharp"
    }
   },
   "outputs": [],
   "source": [
    "public class CreditCard\n",
    "{\n",
    "    public string CardNumber { get; set; }\n",
    "    public string HolderName { get; set; }\n",
    "    public DateTime ExpiryDate { get; set; }\n",
    "\n",
    "    public CreditCard(string cardNumber, string holderName, DateTime expiryDate)\n",
    "    {\n",
    "        CardNumber = cardNumber;\n",
    "        HolderName = holderName;\n",
    "        ExpiryDate = expiryDate;\n",
    "    }\n",
    "\n",
    "    public virtual string GetInfo()\n",
    "    {\n",
    "        return $\"Card Number: {CardNumber}, Holder: {HolderName}, Expiry Date: {ExpiryDate.ToShortDateString()}\";\n",
    "    }\n",
    "\n",
    "    public virtual void Pay(decimal amount)\n",
    "    {\n",
    "        Console.WriteLine($\"Paid {amount} using Credit Card.\");\n",
    "    }\n",
    "\n",
    "    public virtual void CheckBalance()\n",
    "    {\n",
    "        Console.WriteLine(\"Checking balance on the credit card.\");\n",
    "    }\n",
    "}\n",
    "\n",
    "public class GoldCard : CreditCard\n",
    "{\n",
    "    public int BonusMiles { get; set; }\n",
    "\n",
    "    public GoldCard(string cardNumber, string holderName, DateTime expiryDate, int bonusMiles)\n",
    "        : base(cardNumber, holderName, expiryDate)\n",
    "    {\n",
    "        BonusMiles = bonusMiles;\n",
    "    }\n",
    "\n",
    "    public override void Pay(decimal amount)\n",
    "    {\n",
    "        base.Pay(amount);\n",
    "        BonusMiles += (int)(amount / 10); // Earn 1 bonus mile per 10 currency units spent\n",
    "        Console.WriteLine($\"{HolderName} earned {BonusMiles} bonus miles.\");\n",
    "    }\n",
    "\n",
    "    public override string GetInfo()\n",
    "    {\n",
    "        return base.GetInfo() + $\", Bonus Miles: {BonusMiles}\";\n",
    "    }\n",
    "}\n",
    "\n",
    "public class PremiumCard : CreditCard\n",
    "{\n",
    "    public string SupportAssistant { get; set; }\n",
    "\n",
    "    public PremiumCard(string cardNumber, string holderName, DateTime expiryDate, string supportAssistant)\n",
    "        : base(cardNumber, holderName, expiryDate)\n",
    "    {\n",
    "        SupportAssistant = supportAssistant;\n",
    "    }\n",
    "\n",
    "    public override void CheckBalance()\n",
    "    {\n",
    "        base.CheckBalance();\n",
    "        Console.WriteLine($\"If you have any issues, please contact your support assistant: {SupportAssistant}.\");\n",
    "    }\n",
    "\n",
    "    public override string GetInfo()\n",
    "    {\n",
    "        return base.GetInfo() + $\", Support Assistant: {SupportAssistant}\";\n",
    "    }\n",
    "}\n",
    "\n",
    "public class CorporateCard : CreditCard\n",
    "{\n",
    "    public string Company { get; set; }\n",
    "\n",
    "    public CorporateCard(string cardNumber, string holderName, DateTime expiryDate, string company)\n",
    "        : base(cardNumber, holderName, expiryDate)\n",
    "    {\n",
    "        Company = company;\n",
    "    }\n",
    "\n",
    "    public override string GetInfo()\n",
    "    {\n",
    "        return base.GetInfo() + $\", Company: {Company}\";\n",
    "    }\n",
    "}\n",
    "\n",
    "class Program\n",
    "{\n",
    "    static void Main()\n",
    "    {\n",
    "        CreditCard myCard = new CreditCard(\"1234-5678-9876-5432\", \"John Doe\", DateTime.Now.AddYears(2));\n",
    "        Console.WriteLine(myCard.GetInfo());\n",
    "        myCard.Pay(100);\n",
    "        myCard.CheckBalance();\n",
    "\n",
    "        GoldCard goldCard = new GoldCard(\"2345-6789-8765-4321\", \"Jane Smith\", DateTime.Now.AddYears(2), 0);\n",
    "        Console.WriteLine(goldCard.GetInfo());\n",
    "        goldCard.Pay(150);\n",
    "        goldCard.CheckBalance();\n",
    "\n",
    "        PremiumCard premiumCard = new PremiumCard(\"3456-7890-7654-3210\", \"Alice Johnson\", DateTime.Now.AddYears(2), \"John Support\");\n",
    "        Console.WriteLine(premiumCard.GetInfo());\n",
    "        premiumCard.CheckBalance();\n",
    "\n",
    "        CorporateCard corporateCard = new CorporateCard(\"4567-8901-6543-2109\", \"Bob Brown\", DateTime.Now.AddYears(2), \"Corporate Inc.\");\n",
    "        Console.WriteLine(corporateCard.GetInfo());\n",
    "    }\n",
    "}\n"
   ]
  }
 ],
 "metadata": {
  "kernelspec": {
   "display_name": ".NET (C#)",
   "language": "C#",
   "name": ".net-csharp"
  },
  "polyglot_notebook": {
   "kernelInfo": {
    "defaultKernelName": "csharp",
    "items": [
     {
      "aliases": [],
      "languageName": "csharp",
      "name": "csharp"
     }
    ]
   }
  }
 },
 "nbformat": 4,
 "nbformat_minor": 2
}
